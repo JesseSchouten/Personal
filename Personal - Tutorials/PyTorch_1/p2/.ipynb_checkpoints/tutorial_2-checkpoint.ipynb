{
 "cells": [
  {
   "cell_type": "code",
   "execution_count": null,
   "metadata": {},
   "outputs": [],
   "source": [
    "import torch\n",
    "import torchvision\n",
    "from torchvision import transforms, datasets\n",
    "\n",
    "print('Download data: \\n')\n",
    "train = datasets.MNIST(\"\",train=True,download=True\n",
    "                      ,transform=transforms.Compose([transforms.ToTensor()])\n",
    "                      )\n",
    "\n",
    "test = datasets.MNIST(\"\",train=False,download=True\n",
    "                      ,transform=transforms.Compose([transforms.ToTensor()])\n",
    "                      )\n",
    "print('Data downloaded. \\n')"
   ]
  },
  {
   "cell_type": "code",
   "execution_count": null,
   "metadata": {},
   "outputs": [],
   "source": [
    "print(\"Set loaded data to DataLoader types.\\n\")\n",
    "trainset = torch.utils.data.DataLoader(train,batch_size=10,shuffle=True)\n",
    "testset = torch.utils.data.DataLoader(test,batch_size=10,shuffle=True)\n"
   ]
  },
  {
   "cell_type": "code",
   "execution_count": null,
   "metadata": {},
   "outputs": [],
   "source": [
    "print(\"Iterate over first batch in training data:\\n\")\n",
    "for data in trainset:\n",
    "    print(data)\n",
    "    break\n",
    "\n",
    "x,y = data[0][0],data[1][0]\n",
    "\n"
   ]
  },
  {
   "cell_type": "code",
   "execution_count": null,
   "metadata": {},
   "outputs": [],
   "source": [
    "import matplotlib.pyplot as plt\n",
    "\n",
    "print(\"Reshape current shape of {}.\\n\".format(x.shape))\n",
    "plt.imshow(data[0][0].view([28,28]))\n",
    "print(\"We validated that the first row is actually a 3.\")\n"
   ]
  },
  {
   "cell_type": "code",
   "execution_count": null,
   "metadata": {},
   "outputs": [],
   "source": [
    "print(\"Check if dataset is balanced.\\n\")\n",
    "total = 0\n",
    "counter_dict = {0:0,1:0,2:0,3:0,4:0,5:0,6:0,7:0,8:0,9:0}\n",
    "\n",
    "\n",
    "for data in trainset:\n",
    "    Xs, ys = data \n",
    "    for y in ys:\n",
    "        counter_dict[int(y)] +=1\n",
    "        total+=1\n",
    "\n",
    "print(counter_dict)\n",
    "\n",
    "for i in counter_dict:\n",
    "    print(f\"{i}: {counter_dict[i]/total*100}\")\n",
    "    \n",
    "print(\"We conclude the data is balanced enough.\")"
   ]
  },
  {
   "cell_type": "code",
   "execution_count": null,
   "metadata": {},
   "outputs": [],
   "source": []
  }
 ],
 "metadata": {
  "kernelspec": {
   "display_name": "Python 3",
   "language": "python",
   "name": "python3"
  },
  "language_info": {
   "codemirror_mode": {
    "name": "ipython",
    "version": 3
   },
   "file_extension": ".py",
   "mimetype": "text/x-python",
   "name": "python",
   "nbconvert_exporter": "python",
   "pygments_lexer": "ipython3",
   "version": "3.7.3"
  }
 },
 "nbformat": 4,
 "nbformat_minor": 2
}
